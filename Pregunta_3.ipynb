{
  "nbformat": 4,
  "nbformat_minor": 0,
  "metadata": {
    "colab": {
      "provenance": [],
      "authorship_tag": "ABX9TyN+3K02e8b09YO5PxZSqTNb",
      "include_colab_link": true
    },
    "kernelspec": {
      "name": "python3",
      "display_name": "Python 3"
    },
    "language_info": {
      "name": "python"
    }
  },
  "cells": [
    {
      "cell_type": "markdown",
      "metadata": {
        "id": "view-in-github",
        "colab_type": "text"
      },
      "source": [
        "<a href=\"https://colab.research.google.com/github/andresit02/EXAMEN-RECUPERACION-METODOS-/blob/main/Pregunta_3.ipynb\" target=\"_parent\"><img src=\"https://colab.research.google.com/assets/colab-badge.svg\" alt=\"Open In Colab\"/></a>"
      ]
    },
    {
      "cell_type": "markdown",
      "source": [
        "***EXAMEN DE RECUPERACIÓN***\n",
        "\n",
        "***Realizado por: Andres Fernandez***"
      ],
      "metadata": {
        "id": "Sd8icvYmPlE-"
      }
    },
    {
      "cell_type": "markdown",
      "source": [
        "###****PREGUNTA #3****\n",
        "\n",
        "Para la función:\n",
        "\n",
        "***f(x)= x^3 + 2x^2 − 5***\n",
        "\n",
        "Encuentre la o las raíces de la ecuación planteada."
      ],
      "metadata": {
        "id": "4wDXiq6XPGpi"
      }
    },
    {
      "cell_type": "markdown",
      "source": [
        "****Indicaciones****\n",
        "\n",
        "- Encuentre la o las raíces de la ecuación planteada.\n",
        "- Compare la solución para dos métodos diferentes vistos en clase.\n",
        "- Determine el número de iteraciones de ambos métodos hasta la convergencia.\n",
        "- Describa el criterio de parada utilizado.\n",
        "- Grafique el comportamiento de ambos métodos.\n",
        "- Para un método que requiera estimación inicial, grafique su comportamiento para 3 estimaciones iniciales diferentes."
      ],
      "metadata": {
        "id": "pyqKjd9tSf8W"
      }
    },
    {
      "cell_type": "markdown",
      "source": [
        "***MÉTODO 1***"
      ],
      "metadata": {
        "id": "pbunJJQ8ljCu"
      }
    },
    {
      "cell_type": "code",
      "source": [
        "# RAICES\n",
        "\n",
        "def f(x): # Función orginal f(x)\n",
        "    return x**3 + 2*x**2 - 5\n",
        "\n",
        "def df(x):  # Derivada de f(x)\n",
        "    return 3*x**2 + 4*x\n",
        "\n",
        "# Método de Newton-Raphson\n",
        "def newton_raphson(f, df, x0, tolerancia=1e-6, max_iter=100):\n",
        "\n",
        "    \"\"\"\n",
        "    Encuentra una raíz de f(x) usando el método de Newton-Raphson.\n",
        "\n",
        "    Argumentos:\n",
        "        f: La función cuya raíz se busca.\n",
        "        df: La derivada de la función f.\n",
        "        x0: Estimación inicial de la raíz.\n",
        "        tolerancia: La tolerancia para la convergencia.\n",
        "        max_iter: El número máximo de iteraciones.\n",
        "\n",
        "    Returns:\n",
        "        Una aproximación de la raíz, o None si no converge.\n",
        "    \"\"\"\n",
        "\n",
        "    x = x0\n",
        "    for i in range(max_iter):\n",
        "        x_next = x - f(x) / df(x)\n",
        "        if abs(x_next - x) < tolerancia:\n",
        "            return x_next\n",
        "        x = x_next\n",
        "    return None\n",
        "\n",
        "# Estimación inicial\n",
        "x0 = 1.0\n",
        "\n",
        "# Encontrar la raíz\n",
        "raiz = newton_raphson(f, df, x0)\n",
        "\n",
        "if raiz:\n",
        "    print(f\"Raiz encontrada x = {raiz}\")\n",
        "else:\n",
        "    print(\"El método no convergió.\")"
      ],
      "metadata": {
        "colab": {
          "base_uri": "https://localhost:8080/"
        },
        "id": "M2hTnSFSUIrM",
        "outputId": "cbbdcb2b-3e1d-4647-def9-6d77298f1375"
      },
      "execution_count": 8,
      "outputs": [
        {
          "output_type": "stream",
          "name": "stdout",
          "text": [
            "Raiz encontrada x = 1.241896563034796\n"
          ]
        }
      ]
    },
    {
      "cell_type": "markdown",
      "source": [
        "***MÉTODO 2***"
      ],
      "metadata": {
        "id": "HjEQYeSqmAMQ"
      }
    },
    {
      "cell_type": "code",
      "source": [
        "import numpy as np\n",
        "from scipy import optimize\n",
        "\n",
        "def f(x):\n",
        "    return x**3 + 2*x**2 - 5\n",
        "\n",
        "# Usamos un método numérico para encontrar las raíces\n",
        "raiz = optimize.fsolve(f, 1)  # El '1' es una estimación inicial\n",
        "\n",
        "print(\"Raíz encontrada:\", raiz)"
      ],
      "metadata": {
        "colab": {
          "base_uri": "https://localhost:8080/"
        },
        "id": "zJuxju15l7m3",
        "outputId": "827562f7-58b9-45eb-df54-9e8302fe70cf"
      },
      "execution_count": 9,
      "outputs": [
        {
          "output_type": "stream",
          "name": "stdout",
          "text": [
            "Raíz encontrada: [1.24189656]\n"
          ]
        }
      ]
    }
  ]
}